{
  "nbformat": 4,
  "nbformat_minor": 0,
  "metadata": {
    "colab": {
      "provenance": []
    },
    "kernelspec": {
      "name": "python3",
      "display_name": "Python 3"
    },
    "language_info": {
      "name": "python"
    }
  },
  "cells": [
    {
      "cell_type": "markdown",
      "source": [
        "# Does BLOSUM62 satisfy the Triangle Inequality?"
      ],
      "metadata": {
        "id": "imG-WPX3Y7KH"
      }
    },
    {
      "cell_type": "code",
      "source": [
        "import itertools\n",
        "import math"
      ],
      "metadata": {
        "id": "kpEA2jy4ZQkr"
      },
      "execution_count": 4,
      "outputs": []
    },
    {
      "cell_type": "code",
      "execution_count": 1,
      "metadata": {
        "colab": {
          "base_uri": "https://localhost:8080/"
        },
        "id": "iAPzcm47Vjsf",
        "outputId": "ed4e21b9-c2f3-45ce-e281-4a2355d6f941"
      },
      "outputs": [
        {
          "output_type": "stream",
          "name": "stdout",
          "text": [
            "--2022-12-15 20:04:41--  https://drive.google.com/uc?export=download&id=1rh6Rgjoyloyp2hPhTlOBD16yc7sc3gPy\n",
            "Resolving drive.google.com (drive.google.com)... 108.177.111.138, 108.177.111.113, 108.177.111.101, ...\n",
            "Connecting to drive.google.com (drive.google.com)|108.177.111.138|:443... connected.\n",
            "HTTP request sent, awaiting response... 303 See Other\n",
            "Location: https://doc-0c-3c-docs.googleusercontent.com/docs/securesc/ha0ro937gcuc7l7deffksulhg5h7mbp1/96qbgsmp6tn5icj68rbq49bunu5nfes8/1671134625000/07504575957156967943/*/1rh6Rgjoyloyp2hPhTlOBD16yc7sc3gPy?e=download&uuid=8d20e8c7-3bfe-403e-93d3-d50a16d36bb3 [following]\n",
            "Warning: wildcards not supported in HTTP.\n",
            "--2022-12-15 20:04:42--  https://doc-0c-3c-docs.googleusercontent.com/docs/securesc/ha0ro937gcuc7l7deffksulhg5h7mbp1/96qbgsmp6tn5icj68rbq49bunu5nfes8/1671134625000/07504575957156967943/*/1rh6Rgjoyloyp2hPhTlOBD16yc7sc3gPy?e=download&uuid=8d20e8c7-3bfe-403e-93d3-d50a16d36bb3\n",
            "Resolving doc-0c-3c-docs.googleusercontent.com (doc-0c-3c-docs.googleusercontent.com)... 108.177.111.132, 2607:f8b0:4001:c07::84\n",
            "Connecting to doc-0c-3c-docs.googleusercontent.com (doc-0c-3c-docs.googleusercontent.com)|108.177.111.132|:443... connected.\n",
            "HTTP request sent, awaiting response... 200 OK\n",
            "Length: 143152 (140K) [application/zip]\n",
            "Saving to: ‘data.zip’\n",
            "\n",
            "data.zip            100%[===================>] 139.80K  --.-KB/s    in 0.002s  \n",
            "\n",
            "2022-12-15 20:04:42 (68.9 MB/s) - ‘data.zip’ saved [143152/143152]\n",
            "\n",
            "Archive:  data.zip\n",
            "  inflating: BLOSUM62.txt            \n",
            "  inflating: Q2b_reference.txt       \n"
          ]
        }
      ],
      "source": [
        "!wget -c 'https://drive.google.com/uc?export=download&id=1rh6Rgjoyloyp2hPhTlOBD16yc7sc3gPy' -O data.zip\n",
        "!unzip -o data.zip "
      ]
    },
    {
      "cell_type": "code",
      "source": [
        "def read_blosum62(path):\n",
        "    \"\"\"\n",
        "    Reads in the ncbi's BLOSUM62.txt file and loads the scoring matrix\n",
        "    into a dictionary.\n",
        "    \n",
        "    :param: path is the full path in the local filesystem at which the .txt file is located\n",
        "    :return: a dictionary of dictionaries which will hold the cost of various amino acid\n",
        "    substitutions as defined in BLOSUM62.\n",
        "    \"\"\"\n",
        "    delta = {}\n",
        "    with open(path, 'r') as f:\n",
        "        lines = f.readlines()[6:]\n",
        "        keys = lines[0].split()\n",
        "        keys[-1] = '-'\n",
        "        for i, line in enumerate(lines[1:]):\n",
        "            delta[keys[i]] = {k : int(v) for (k,v) in zip(keys, line.split()[1:])}  \n",
        "    return delta\n",
        "\n",
        "blosum = read_blosum62('./BLOSUM62.txt')\n",
        "alphabet = [k for k in blosum]"
      ],
      "metadata": {
        "id": "gNW1PYjMWigX"
      },
      "execution_count": 3,
      "outputs": []
    },
    {
      "cell_type": "code",
      "source": [
        "tally = {c:0 for c in alphabet}\n",
        "count = 0\n",
        "\n",
        "for A, B, C in itertools.combinations(alphabet, 3):\n",
        "    if not abs(blosum[A][B]) + abs(blosum[B][C]) >= abs(blosum[A][C]):\n",
        "        # print(f'({A},{B},{C}): {abs(blosum[A][B])} + {abs(blosum[B][C])} < {abs(blosum[A][C])}')\n",
        "        \n",
        "        tally[A], tally[B], tally[C] = tally[A] + 1, tally[B] + 1, tally[C] + 1\n",
        "        count += 1\n",
        "        \n",
        "\n",
        "print(f'{count}, {count/2024}%')\n",
        "print(tally)"
      ],
      "metadata": {
        "colab": {
          "base_uri": "https://localhost:8080/"
        },
        "id": "XzWbNGH3Wlak",
        "outputId": "07279a9b-8fdf-48db-8db5-99c79f844a3b"
      },
      "execution_count": 5,
      "outputs": [
        {
          "output_type": "stream",
          "name": "stdout",
          "text": [
            "174, 0.08596837944664032%\n",
            "{'A': 17, 'R': 20, 'N': 40, 'D': 26, 'C': 11, 'Q': 33, 'E': 26, 'G': 16, 'H': 24, 'I': 13, 'L': 13, 'K': 20, 'M': 26, 'F': 25, 'P': 12, 'S': 40, 'T': 32, 'W': 25, 'Y': 5, 'V': 24, 'B': 38, 'Z': 26, 'X': 10, '-': 0}\n"
          ]
        }
      ]
    },
    {
      "cell_type": "code",
      "source": [
        "tally = {c:0 for c in alphabet}\n",
        "count = 0\n",
        "\n",
        "for A in alphabet:\n",
        "    for B, C in itertools.combinations(alphabet, 2):\n",
        "        if not abs(blosum[A][B]) + abs(blosum[B][C]) >= abs(blosum[A][C]):\n",
        "            # print(f'({A},{B},{C}): {abs(blosum[A][B])} + {abs(blosum[B][C])} < {abs(blosum[A][C])}')\n",
        "            \n",
        "            if A == B:\n",
        "                tally[A], tally[C] = tally[A] + 1, tally[C] + 1\n",
        "            else:\n",
        "                tally[A], tally[B], tally[C] = tally[A] + 1, tally[B] + 1, tally[C] + 1\n",
        "            count += 1\n",
        "\n",
        "\n",
        "print(f'{count}, {count/6624}%')\n",
        "print(tally)"
      ],
      "metadata": {
        "colab": {
          "base_uri": "https://localhost:8080/"
        },
        "id": "AEa39mNIk90G",
        "outputId": "520fc3f2-565c-44e0-fff2-4fc1bf3469b2"
      },
      "execution_count": 11,
      "outputs": [
        {
          "output_type": "stream",
          "name": "stdout",
          "text": [
            "681, 0.10280797101449275%\n",
            "{'A': 150, 'R': 81, 'N': 116, 'D': 57, 'C': 60, 'Q': 116, 'E': 87, 'G': 88, 'H': 100, 'I': 47, 'L': 61, 'K': 69, 'M': 88, 'F': 73, 'P': 68, 'S': 88, 'T': 92, 'W': 77, 'Y': 48, 'V': 85, 'B': 111, 'Z': 87, 'X': 27, '-': 0}\n"
          ]
        }
      ]
    },
    {
      "cell_type": "markdown",
      "source": [
        "# Affine Gap Penalty Alignment"
      ],
      "metadata": {
        "id": "LP75QKjSo4OB"
      }
    },
    {
      "cell_type": "markdown",
      "source": [
        "\\begin{equation}\n",
        "s^\\rightarrow[i,j] = \\max\n",
        "\\begin{cases}\n",
        "s^\\rightarrow[i,j-1] - \\sigma, & \\mbox{if j > 1,} \\\\\n",
        "s^\\searrow[i,j-1] - (\\sigma + \\rho), & \\mbox{if j > 0,}\n",
        "\\end{cases}\n",
        "\\end{equation}\n",
        "\n",
        "\\begin{equation}\n",
        "s^\\searrow[i,j] = \\max\n",
        "\\begin{cases}\n",
        "0, & \\mbox{if i = 0 and j = 0,} \\\\\n",
        "s^\\rightarrow[i,j], & \\mbox{if j > 0,} \\\\\n",
        "s^\\downarrow[i,j], & \\mbox{if i > 0,} \\\\\n",
        "s^\\searrow[i-1,j-1] - \\delta(v_i,w_i), & \\mbox{if i > 0 and j > 0,}\n",
        "\\end{cases}\n",
        "\\end{equation}\n",
        "\n",
        "\\begin{equation}\n",
        "s^\\downarrow[i,j] = \\max\n",
        "\\begin{cases}\n",
        "s^\\downarrow[i-1,j] - \\sigma, & \\mbox{if i > 1,} \\\\\n",
        "s^\\searrow[i-1,j] - (\\sigma + \\rho), & \\mbox{if i > 0.}\n",
        "\\end{cases}\n",
        "\\end{equation}\n",
        "\n",
        "Great project! For real data, look at PFAM and HOMSTRAD."
      ],
      "metadata": {
        "id": "7DMdw_iP0j-S"
      }
    },
    {
      "cell_type": "code",
      "source": [
        "ORIGIN = (0, 0, 0)\n",
        "UP = (-1, 0, 0)\n",
        "LEFT = (0, -1, 0)\n",
        "TOPLEFT = (-1, -1, 0)\n",
        "DELOPEN = (0, -1, 1)\n",
        "DELCLOSE = (0, 0, -1)\n",
        "INSOPEN = (-1, 0, -1)\n",
        "INSCLOSE = (0, 0, 1)\n",
        "\n",
        "\n",
        "def traceback_global(v, w, pointers):\n",
        "    i, j = len(v), len(w)\n",
        "    new_v, new_w = [], []\n",
        "    while True:\n",
        "        di, dj = pointers[i][j]\n",
        "        if (di,dj) == LEFT:\n",
        "            new_v.append('-')\n",
        "            new_w.append(w[j-1])\n",
        "        elif (di,dj) == UP:\n",
        "            new_v.append(v[i-1])\n",
        "            new_w.append('-')\n",
        "        elif (di,dj) == TOPLEFT:\n",
        "            new_v.append(v[i-1])\n",
        "            new_w.append(w[j-1])\n",
        "        i, j = i + di, j + dj\n",
        "        if (i <= 0 and j <= 0):\n",
        "            break\n",
        "    return ''.join(new_v[::-1]) + '\\n' + ''.join(new_w[::-1])\n",
        "\n",
        "\n",
        "def global_align(v, w, delta, sigma, rho):\n",
        "    \"\"\"\n",
        "    Returns the score of the maximum scoring alignment of the strings v and w, as well as the actual alignment as \n",
        "    computed by traceback_global. \n",
        "    \n",
        "    :param: v\n",
        "    :param: w\n",
        "    :param: delta\n",
        "    :param: sigma\n",
        "    :param: rho\n",
        "    \"\"\"\n",
        "\n",
        "    M_h = M_d = M_v = [[0 for j in range(len(w)+1)] for i in range(len(v)+1)]\n",
        "    P_h = P_d = P_v = [[ORIGIN for j in range(len(w)+1)] for i in range(len(v)+1)]\n",
        "\n",
        "    for i in range(len(v)+1):\n",
        "        for j in range(len(w)+1):\n",
        "            # Horizontal Table\n",
        "            extend_gap = M_h[i][j-1] - sigma if j > 1 else float('-inf')\n",
        "            open_gap = M_d[i][j-1] - (sigma + rho) if j > 0 else float('-inf')\n",
        "            M_h[i][j] = max(extend_gap, open_gap)\n",
        "\n",
        "            # Diagonal Table\n",
        "            orig = 0 if i == 0 and j == 0 else float('-inf')\n",
        "            close_del = M_h[i][j] if j > 0 else float('-inf')\n",
        "            close_ins = M_v[i][j] if i > 0 else float('-inf')\n",
        "            sub = M_d[i-1][j-1] + delta[v[i-1]][w[j-1]] if i > 0 and j > 0 else float('-inf')\n",
        "            M_d[i][j] = max(orig, close_del, close_ins, sub)\n",
        "\n",
        "            # Vertical Table\n",
        "            extend_gap = M_v[i-1][j] - sigma if i > 1 else float('-inf')\n",
        "            open_gap = M_d[i-1][j] - (sigma + rho) if i > 0 else float('-inf')\n",
        "            M_v[i][j] = max(extend_gap, open_gap)\n",
        "\n",
        "    score = M_d[-1][-1]\n",
        "    # alignment = traceback_global(v, w, pointers)\n",
        "    return score #, alignment"
      ],
      "metadata": {
        "id": "lzuHuBNmo1Jy"
      },
      "execution_count": null,
      "outputs": []
    },
    {
      "cell_type": "code",
      "source": [
        "keys = ['A', 'C', 'T', 'G', '-']\n",
        "delta = {}\n",
        "for i in range(len(keys)):\n",
        "    delta[keys[i]] = {k : v for (k,v) in zip(keys, [1 if keys[i] == keys[j]  else -1 for j in range(len(keys))])}\n",
        "    \n",
        "global_align(\"TAGATA\", \"GTAGGCTTAAGGTTA\", delta, 1, 1)"
      ],
      "metadata": {
        "colab": {
          "base_uri": "https://localhost:8080/"
        },
        "id": "IYfD8xkKznHR",
        "outputId": "661792c8-828a-43d1-d1d5-7571cd93d6de"
      },
      "execution_count": null,
      "outputs": [
        {
          "output_type": "execute_result",
          "data": {
            "text/plain": [
              "2"
            ]
          },
          "metadata": {},
          "execution_count": 98
        }
      ]
    }
  ]
}